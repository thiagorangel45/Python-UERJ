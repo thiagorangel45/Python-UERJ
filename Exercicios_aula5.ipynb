{
 "cells": [
  {
   "cell_type": "markdown",
   "id": "28bd216c-019c-4590-abdb-e2e36d8d09b8",
   "metadata": {},
   "source": [
    "## Exercicio 1:\n",
    "Modifique o programa da tartaruga (primeiro exemplo) para que, antes de criar a janela, ele solicite que o usuário insira a cor de fundo desejada. Ele deve armazenar as respostas do usuário em uma variável e modificar a cor da janela de acordo com os desejos do usuário. "
   ]
  },
  {
   "cell_type": "code",
   "execution_count": null,
   "id": "3f22c2a7-dc24-4833-bfa9-f5c36a400349",
   "metadata": {},
   "outputs": [],
   "source": [
    "import turtle\n",
    "\n",
    "cor_fundo = input(\"Digite a cor de fundo desejada para a janela: \")\n",
    "jn = turtle.Screen()\n",
    "jn.bgcolor(cor_fundo)\n",
    "joana = turtle.Turtle()\n",
    "\n",
    "\n",
    "joana.forward(50)\n",
    "joana.left(90)\n",
    "joana.forward(30)\n",
    "\n",
    "jn.mainloop()"
   ]
  },
  {
   "cell_type": "markdown",
   "id": "3a8811a8-14ed-47c8-979c-ac975a6ca9b4",
   "metadata": {},
   "source": [
    "## Exercicio 2:\n",
    "Faça modificações similares para permitir que o usuário mude a cor da tartaruga durante a execução do programa."
   ]
  },
  {
   "cell_type": "code",
   "execution_count": null,
   "id": "613a33a2-2489-4285-adf3-973efa42bc2b",
   "metadata": {},
   "outputs": [],
   "source": [
    "import turtle\n",
    "\n",
    "cor = input(\"Insira a cor: \")\n",
    "\n",
    "# Cria a janela e a tartaruga\n",
    "jn = turtle.Screen()\n",
    "joana = turtle.Turtle()\n",
    "\n",
    "# Configura a cor da tartaruga\n",
    "joana.color(cor)\n",
    "\n",
    "# Desenha um retângulo\n",
    "joana.forward(50)\n",
    "joana.left(90)\n",
    "joana.forward(30)\n",
    "\n",
    "# Mantém a janela aberta\n",
    "jn.mainloop()"
   ]
  },
  {
   "cell_type": "markdown",
   "id": "181399d9-49f1-47a7-9e72-821dd1a0953c",
   "metadata": {},
   "source": [
    "## Exercicio 4:\n",
    "Desenhe um quadrado, usando a forma de tartaruga, ao invés da flecha, para desenhar.\n",
    "\n",
    "    mude a velocidade com que a tartaruga faz o desenho\n",
    "\n"
   ]
  },
  {
   "cell_type": "code",
   "execution_count": null,
   "id": "1b5e16b1-e184-48c0-8fcb-ebea927cfceb",
   "metadata": {},
   "outputs": [],
   "source": [
    "import turtle\n",
    "\n",
    "# Cria a janela e a tartaruga\n",
    "jn = turtle.Screen()\n",
    "joana = turtle.Turtle()\n",
    "\n",
    "# Altera a forma da tartaruga para um quadrado\n",
    "joana.shape(\"square\")\n",
    "\n",
    "# Ajusta a velocidade da tartaruga (1 a 10, sendo 1 a mais lenta e 10 a mais rápida)\n",
    "velocidade = int(input(\"Insira a velocidade da tartaruga (1 a 10): \"))\n",
    "joana.speed(velocidade)\n",
    "\n",
    "# Desenha um quadrado\n",
    "for _ in range(4):\n",
    "    joana.forward(100)\n",
    "    joana.right(90)\n",
    "\n",
    "# Mantém a janela aberta\n",
    "jn.mainloop()"
   ]
  },
  {
   "cell_type": "markdown",
   "id": "a013ee02-4baf-41e6-8234-99a1f627152c",
   "metadata": {},
   "source": [
    "## Exercicio 5:\n",
    "Sabendo que o ângulo interno da ponta de uma estrela de 5 pontas é de 36 graus, desenhe uma estrela em uma janela. "
   ]
  },
  {
   "cell_type": "code",
   "execution_count": null,
   "id": "accb43e2-d7aa-4230-8104-605a34a6caf9",
   "metadata": {},
   "outputs": [],
   "source": [
    "import turtle\n",
    "\n",
    "jn = turtle.Screen()\n",
    "matilda = turtle.Turtle()\n",
    "for i in range(5):\n",
    "  matilda.forward(80)\n",
    "  matilda.right(144)"
   ]
  },
  {
   "cell_type": "markdown",
   "id": "3fd904e0-53ae-4e60-a6ac-c9a276baad82",
   "metadata": {},
   "source": [
    "## Exercicio 6:\n",
    "Sabendo o ângulo interno da ponta de uma estrela, desenhe quatro estrelas em uma janela, com uma certa distância entre elas. Dica: use a função penup() e pendown() do módulo turtle"
   ]
  },
  {
   "cell_type": "code",
   "execution_count": null,
   "id": "dd955295-10b3-4681-9f5f-adbdb125f095",
   "metadata": {},
   "outputs": [],
   "source": [
    "import turtle\n",
    "\n",
    "def star(t, size):\n",
    "    for _ in range(5):\n",
    "        t.forward(size)\n",
    "        t.right(144)\n",
    "\n",
    "def desenhar_estrelas(t, num_estrelas, distancia_entre_estrelas, tamanho_estrela):\n",
    "    for _ in range(num_estrelas):\n",
    "        star(t, tamanho_estrela)\n",
    "        t.penup()\n",
    "        t.forward(distancia_entre_estrelas)\n",
    "        t.pendown()\n",
    "\n",
    "jn = turtle.Screen()\n",
    "joana = turtle.Turtle()\n",
    "\n",
    "num_estrelas = 4\n",
    "distancia_entre_estrelas = 200\n",
    "tamanho_estrela = 100\n",
    "\n",
    "desenhar_estrelas(joana, num_estrelas, distancia_entre_estrelas, tamanho_estrela)\n",
    "\n",
    "jn.mainloop()"
   ]
  },
  {
   "cell_type": "markdown",
   "id": "4e70401f-fbc8-46d2-adc9-41eeced7a74c",
   "metadata": {},
   "source": [
    "## Exercícios em preparação para os próximos capítulos"
   ]
  },
  {
   "cell_type": "markdown",
   "id": "e310c15e-0de7-4dd7-9760-9ff6d4c03bbb",
   "metadata": {},
   "source": [
    "## Exercicio 1:\n",
    "Escreva uma função chamada square, que toma um parâmetro t, que é uma Turtle. Essa função deve usar o turtle para desenhar um quadrado. Escreva uma chamada de função que passe joana como argumento para square e rode o programa novamente. "
   ]
  },
  {
   "cell_type": "code",
   "execution_count": null,
   "id": "683f9628-d97f-4584-9f39-cca654ecee66",
   "metadata": {},
   "outputs": [],
   "source": [
    "import turtle\n",
    "jn = turtle.Screen()\n",
    "\n",
    "def square(t):\n",
    "    for i in range(4):\n",
    "        t.forward(80)\n",
    "        t.right(90)\n",
    "t = turtle.Turtle()\n",
    "square(t)"
   ]
  },
  {
   "cell_type": "markdown",
   "id": "7cc90f91-2e21-4596-95c1-50bf51a01b70",
   "metadata": {},
   "source": [
    "## Exercicio 2:\n",
    "Adicione um outro parâmetro, chamado length, à função square. Modifique o corpo da função de tal forma que o comprimento dos lados do quadrado seja length e então modifique a chamada da função para que seja passado o segundo argumento. Rode o programa novamente. Teste o seu programa com diversos valores para length."
   ]
  },
  {
   "cell_type": "code",
   "execution_count": null,
   "id": "7f14f100-cfa4-4e86-ac07-e61ce66ee4f0",
   "metadata": {},
   "outputs": [],
   "source": [
    "import turtle\n",
    "\n",
    "jn = turtle.Screen()\n",
    "\n",
    "def square(t, length):\n",
    "    for i in range(4):\n",
    "        t.forward(length)\n",
    "        t.right(90)\n",
    "\n",
    "t = turtle.Turtle()\n",
    "length = int(input(\"Insira o valor do comprimento: \"))\n",
    "square(t, length)\n",
    "jn.mainloop()"
   ]
  },
  {
   "cell_type": "markdown",
   "id": "6b11c9a7-e81e-4d44-9f64-8ed8825afe3c",
   "metadata": {},
   "source": [
    "## Exercicio 3:\n",
    "Faça uma cópia da função square e mude o nome para polygon. Adicione um outro parâmetro chamado n e modifique o corpo da função para que ela desenhe um polígono regular de n lados. Dica: Os ângulos externos de um polígono regular de n lados são de 360/n graus. "
   ]
  },
  {
   "cell_type": "code",
   "execution_count": null,
   "id": "d01af4bc-0b9f-404d-8292-840bf3c71568",
   "metadata": {},
   "outputs": [],
   "source": [
    "import turtle\n",
    "\n",
    "jn = turtle.Screen()\n",
    "\n",
    "def polygon(t, n):\n",
    "    for i in range(n):\n",
    "        t.forward(80)\n",
    "        t.right(360/n)\n",
    "\n",
    "t = turtle.Turtle()\n",
    "n = int(input(\"Escolha o número inteiro para os lados do polígono: \"))\n",
    "polygon(t, n)\n",
    "jn.mainloop()"
   ]
  },
  {
   "cell_type": "markdown",
   "id": "a4892f9e-5e6a-44cb-a6fc-e7e53164b761",
   "metadata": {},
   "source": [
    "## Exercicio 4:\n",
    "Escreva uma função chamada circle que toma como argumento uma Turtle, t, e um raio, r, e desenha um círculo aproximado ao chamar a função polygon com length e número n de lados apropriados. Teste sua função com um intervalo de valores de r. Dica: Determine a circunferência do círculo e se certifique que comprimento * n = circunferência."
   ]
  },
  {
   "cell_type": "code",
   "execution_count": null,
   "id": "356e8c46-e1dd-4da9-b6ec-4a87339fe188",
   "metadata": {},
   "outputs": [],
   "source": [
    "import turtle\n",
    "import math\n",
    "\n",
    "def polygon(t, length, n):\n",
    "    for _ in range(n):\n",
    "        t.forward(length)\n",
    "        t.right(360 / n)\n",
    "\n",
    "def circle(t, r):\n",
    "    circumference = 2 * math.pi * r\n",
    "    n = int(circumference / 3)\n",
    "    length = circumference / n\n",
    "    polygon(t, length, n)\n",
    "    \n",
    "jn = turtle.Screen()\n",
    "t = turtle.Turtle()\n",
    "circle(t, 50)\n",
    "jn.mainloop()"
   ]
  },
  {
   "cell_type": "markdown",
   "id": "98452403-6511-4206-8382-22652ab19701",
   "metadata": {},
   "source": [
    "## Exercicio 5:\n",
    "Faça uma versão mais geral da função circle, chamada arc, que toma um parâmetro adicional, angle, que determina qual a fração do circulo a ser desenhada. angle está em unidades de graus, logo quando angle=360, a função arc deve desenhar um cículo completo."
   ]
  },
  {
   "cell_type": "code",
   "execution_count": null,
   "id": "d190cb2c-64bb-450d-9e35-ecc619d1fcae",
   "metadata": {},
   "outputs": [],
   "source": [
    "import turtle\n",
    "import math\n",
    "\n",
    "def arc(t, r, angle):\n",
    "    arc_length = 2 * math.pi * r * abs(angle) / 360\n",
    "    n = int(arc_length / 3) + 1\n",
    "    step_length = arc_length / n\n",
    "    step_angle = float(angle) / n\n",
    "    for _ in range(n):\n",
    "        t.forward(step_length)\n",
    "        t.left(step_angle)\n",
    "        \n",
    "jn = turtle.Screen()\n",
    "t = turtle.Turtle()\n",
    "arc(t, 50, 180)\n",
    "jn.mainloop()"
   ]
  }
 ],
 "metadata": {
  "kernelspec": {
   "display_name": "Python 3 (ipykernel)",
   "language": "python",
   "name": "python3"
  },
  "language_info": {
   "codemirror_mode": {
    "name": "ipython",
    "version": 3
   },
   "file_extension": ".py",
   "mimetype": "text/x-python",
   "name": "python",
   "nbconvert_exporter": "python",
   "pygments_lexer": "ipython3",
   "version": "3.11.7"
  }
 },
 "nbformat": 4,
 "nbformat_minor": 5
}
