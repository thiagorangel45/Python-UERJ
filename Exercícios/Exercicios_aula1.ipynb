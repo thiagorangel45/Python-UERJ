{
 "cells": [
  {
   "cell_type": "markdown",
   "id": "4ba228e1-635e-45e4-a801-c88ce799ba67",
   "metadata": {},
   "source": [
    "## Exercicio 1: \n",
    "Escreva na tela do modo prompt: \"mundo, mundo, vasto mundo\"\n"
   ]
  },
  {
   "cell_type": "code",
   "execution_count": 3,
   "id": "9078883d-3df8-4bb0-8b1f-5e6d7d558b22",
   "metadata": {},
   "outputs": [
    {
     "name": "stdout",
     "output_type": "stream",
     "text": [
      "mundo, mundo, vasto mundo\n"
     ]
    }
   ],
   "source": [
    "print(\"mundo, mundo, vasto mundo\")"
   ]
  },
  {
   "cell_type": "markdown",
   "id": "5c9249cf-5615-46e0-b56e-8856c45a5ef5",
   "metadata": {},
   "source": [
    "## Exercicio 2:\n",
    "imprima na tela a documentação da função print"
   ]
  },
  {
   "cell_type": "code",
   "execution_count": 4,
   "id": "035c9348-9d23-4336-9b22-6c7e34efb9b0",
   "metadata": {},
   "outputs": [
    {
     "name": "stdout",
     "output_type": "stream",
     "text": [
      "Help on built-in function print in module builtins:\n",
      "\n",
      "print(*args, sep=' ', end='\\n', file=None, flush=False)\n",
      "    Prints the values to a stream, or to sys.stdout by default.\n",
      "    \n",
      "    sep\n",
      "      string inserted between values, default a space.\n",
      "    end\n",
      "      string appended after the last value, default a newline.\n",
      "    file\n",
      "      a file-like object (stream); defaults to the current sys.stdout.\n",
      "    flush\n",
      "      whether to forcibly flush the stream.\n",
      "\n"
     ]
    }
   ],
   "source": [
    "help(\"print\")"
   ]
  },
  {
   "cell_type": "markdown",
   "id": "ad662775-5a85-4d53-bff3-8bdd4b83dcd7",
   "metadata": {},
   "source": [
    "## Exercicio 3:\n",
    "Se você fizer uma corrida de 10 quilômetros em 43 minutos e 30 segundos, qual será seu tempo médio por milha? Qual é a sua velocidade média em milhas por hora? (Dica: há 1,61 quilômetros em uma milha)."
   ]
  },
  {
   "cell_type": "code",
   "execution_count": 15,
   "id": "f24ce0c1-ddb1-4535-8876-bc6242ee131e",
   "metadata": {},
   "outputs": [
    {
     "name": "stdout",
     "output_type": "stream",
     "text": [
      "10 km equivale a: 6.211180124223602 milhas\n",
      "43 minutos equivale a: 2580 segundos\n",
      "somando com os 30 segundos temos o tempo total igual a: 2610 segundos\n",
      "2610 segundos equivale a: 0.725 horas\n",
      "a velocidade média é: 8.567144998929106 milhas por hora\n"
     ]
    }
   ],
   "source": [
    "# corrida de 10km em 43 min e 30 segundos \n",
    "\n",
    "#a) tempo médio por milha (1 milha é 1.61 km) achar quanto vale 10km em milhas\n",
    "\n",
    "print(\"10 km equivale a:\", 10/1.61, \"milhas\")\n",
    "\n",
    "#b) achar quantas horas equivale a 43 min e 30 segundos\n",
    "\n",
    "# 1hora = 60 min, 1 min é 60 segundos, 1hora = 3600 segundos\n",
    "print(\"43 minutos equivale a:\", 43*60, \"segundos\")\n",
    "print(\"somando com os 30 segundos temos o tempo total igual a:\", 2580 + 30, \"segundos\" )\n",
    "\n",
    "#como 1hora vale 3600 segundos 2610 equivale a:\n",
    "print(\"2610 segundos equivale a:\", 2610/3600, \"horas\")\n",
    "\n",
    "# a velocidade média é:\n",
    "\n",
    "print(\"a velocidade média é:\", (10/1.61)/0.725, \"milhas por hora\")\n"
   ]
  },
  {
   "cell_type": "markdown",
   "id": "ca1cdf08-7757-4e16-a8dd-ef6a8335c0c7",
   "metadata": {},
   "source": [
    "## Exercicio 4:\n",
    "Desde sua varanda você escuta o som do primeiro fogo artificial do reveillon 3 segundos depois de ver a luz, qual a distância? (o som tem velocidade 343 m/s e a luz $3\\times 10^8$ m/s)"
   ]
  },
  {
   "cell_type": "code",
   "execution_count": 17,
   "id": "8687f4ca-4a01-493b-8785-16bd6b5cfaa4",
   "metadata": {},
   "outputs": [
    {
     "name": "stdout",
     "output_type": "stream",
     "text": [
      "1.0290011764913451\n"
     ]
    }
   ],
   "source": [
    "# v = S/t; \n",
    "# V_som = S/(t+3); v_luz = S/t => \n",
    "# S = 3*(1/(v_s) - 1/(v-luz))^-1 (em metros)\n",
    "\n",
    "v_luz = 3*10**8\n",
    "v_som = 343\n",
    "\n",
    "Distancia = 3*((1/v_som) - (1/v_luz))**(-1)\n",
    "print(Distancia/1000)"
   ]
  },
  {
   "cell_type": "markdown",
   "id": "8dd4ffaf-e626-40c3-8222-e26bfadfc824",
   "metadata": {},
   "source": [
    "## Exercicio 5:\n",
    "Ache os zeros da função: y = 3$x^2$ - $4x$ -10 "
   ]
  },
  {
   "cell_type": "code",
   "execution_count": 42,
   "id": "fb57d568-c982-4276-81e4-0ff5e88b6469",
   "metadata": {},
   "outputs": [
    {
     "name": "stdout",
     "output_type": "stream",
     "text": [
      "O valor da primeira raiz é: 2.610317298281767\n",
      "O valor da segunda raiz é: -1.2769839649484336\n"
     ]
    }
   ],
   "source": [
    "# Equação de Bhaskara: x = (-b +- sqrt(b^2 - 4ac))/(2*a)\n",
    "\n",
    "import math\n",
    "\n",
    "a = 3\n",
    "b = -4\n",
    "c = -10\n",
    "\n",
    "x1 = (-b + math.sqrt(b**2 - 4*a*c))/(2*a)\n",
    "print(\"O valor da primeira raiz é:\", x1)\n",
    "x2 = (-b - math.sqrt(b**2 - 4*a*c))/(2*a)\n",
    "print(\"O valor da segunda raiz é:\", x2)"
   ]
  },
  {
   "cell_type": "markdown",
   "id": "9b78de81-2891-43b4-a5c8-e7e74a350aab",
   "metadata": {},
   "source": [
    "## Exercicio 6: \n",
    "Se, ao meiodia, a sombra de um poste de 5 m de altura tem apenas 50 cm de comprimento no chão, qual o ângulo zenital do sol? "
   ]
  },
  {
   "cell_type": "code",
   "execution_count": 50,
   "id": "93bf8c95-c1e3-469a-a03d-3fb929882f7b",
   "metadata": {},
   "outputs": [
    {
     "name": "stdout",
     "output_type": "stream",
     "text": [
      "1.4711276743037347\n"
     ]
    }
   ],
   "source": [
    "import math\n",
    "\n",
    "theta = math.atan(500/50)\n",
    "print(theta)"
   ]
  },
  {
   "cell_type": "markdown",
   "id": "c6df9030-69d2-4165-b567-20573569f31c",
   "metadata": {},
   "source": [
    "## Exercicio 7:\n",
    "Calcule o seu IMC: IMC = M / $A^2$ (com a massa em Kg e a altura em metros). Um valor saudável estara --em geral-- entre 20-25. Um bebê de 6 meses \"gorducho\" tem 70 cm de \"comprimento\" e 11 kg de massa, qual o IMC dele?"
   ]
  },
  {
   "cell_type": "code",
   "execution_count": 51,
   "id": "87215bc1-07c5-4242-9ab4-7cff29af92ce",
   "metadata": {},
   "outputs": [
    {
     "name": "stdout",
     "output_type": "stream",
     "text": [
      "22.44897959183674\n"
     ]
    }
   ],
   "source": [
    "M = 11\n",
    "A = 0.7 # em metros 70cm = 0.7 metros\n",
    "IMC = M/A**2\n",
    "print(IMC)"
   ]
  },
  {
   "cell_type": "markdown",
   "id": "4ff392de-e11b-4846-ba32-b7497b9bcb6f",
   "metadata": {},
   "source": [
    "## Exercicio 8:\n",
    "Calcule a velocidade final de um objeto em queda livre a partir de 3 metros de altura (sem resistencia do ar). Calcule o tempo que esse objeto demora para cair. "
   ]
  },
  {
   "cell_type": "code",
   "execution_count": 44,
   "id": "ef43bdfa-b916-4f49-a3fa-e9630cfa985b",
   "metadata": {},
   "outputs": [
    {
     "name": "stdout",
     "output_type": "stream",
     "text": [
      "7.6681158050723255\n",
      "0.7824607964359516\n",
      "0.7824607964359516\n"
     ]
    }
   ],
   "source": [
    "#Usando torricelli vf^2 = v0^2 -2aS, onde a é a aceleração da gravidade e S é o tamanho do prédio.\n",
    "\n",
    "import math\n",
    "vf = math.sqrt(2*9.8*3)\n",
    "print(vf)\n",
    "\n",
    "# usando que S = v0t + at²/2 \n",
    "\n",
    "T = math.sqrt((2*3)/(9.8))\n",
    "print(T)\n",
    "\n",
    "# usando que v = v0 + at já que parte do repouso v0 = 0 \n",
    "\n",
    "t = vf/9.8\n",
    "print(t)"
   ]
  },
  {
   "cell_type": "code",
   "execution_count": null,
   "id": "0e23868a-6ea2-48f6-bbd6-29f8789b0c00",
   "metadata": {},
   "outputs": [],
   "source": [
    "    "
   ]
  },
  {
   "cell_type": "code",
   "execution_count": null,
   "id": "1d977534-6623-4ae1-8c31-3b68accff333",
   "metadata": {},
   "outputs": [],
   "source": []
  },
  {
   "cell_type": "code",
   "execution_count": null,
   "id": "be6a64cf-069f-42d5-b1fc-39f60cecc1e6",
   "metadata": {},
   "outputs": [],
   "source": []
  }
 ],
 "metadata": {
  "kernelspec": {
   "display_name": "Python 3 (ipykernel)",
   "language": "python",
   "name": "python3"
  },
  "language_info": {
   "codemirror_mode": {
    "name": "ipython",
    "version": 3
   },
   "file_extension": ".py",
   "mimetype": "text/x-python",
   "name": "python",
   "nbconvert_exporter": "python",
   "pygments_lexer": "ipython3",
   "version": "3.11.7"
  }
 },
 "nbformat": 4,
 "nbformat_minor": 5
}
