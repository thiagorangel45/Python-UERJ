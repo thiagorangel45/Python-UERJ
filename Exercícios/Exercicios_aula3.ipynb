{
 "cells": [
  {
   "cell_type": "markdown",
   "id": "6453b5ee-ac26-4f94-9fff-adb3279e202c",
   "metadata": {},
   "source": [
    "## Exercicio 1:\n",
    "Crie uma funcão que tome um argumento e imprima o valor e o tipo dele."
   ]
  },
  {
   "cell_type": "code",
   "execution_count": 21,
   "id": "fcd4b9a8-fde9-469a-8f45-6a0d9621b4d1",
   "metadata": {},
   "outputs": [
    {
     "name": "stdout",
     "output_type": "stream",
     "text": [
      "7\n",
      "<class 'int'>\n"
     ]
    }
   ],
   "source": [
    "def soma(x, y):\n",
    "    return x + y\n",
    "\n",
    "print(soma(5, 2))\n",
    "print(type(soma(5, 2)))"
   ]
  },
  {
   "cell_type": "markdown",
   "id": "1d263205-21ee-48c1-8a8b-681f337c2e2d",
   "metadata": {},
   "source": [
    "## Exercicio 2:\n",
    "Crie uma função que calcule e imprima velocidade media de um objeto a partir de uma posição inicial, a final e o tempo transcorrido para um objeto em MRU. Também crie uma funcão que calcule e imprima a velocidade de um objeto a partir da aceleração constante e o tempo (MRUA) (p.ex. queda libre)."
   ]
  },
  {
   "cell_type": "code",
   "execution_count": 5,
   "id": "ec4e664c-5c9e-4158-b103-c34fab2782d1",
   "metadata": {},
   "outputs": [
    {
     "name": "stdout",
     "output_type": "stream",
     "text": [
      "5.0 m/s\n",
      "10 m/s\n"
     ]
    }
   ],
   "source": [
    "def velocidade_média(x_i, x_f, t): # \"x_i\" é a posição inicial, \"x_f\" é a posição final e \"t\" o tempo\n",
    "    return (x_f - x_i)/t\n",
    "\n",
    "#supondo a posição inicial sendo 0, final sendo 5 e em 1 segundo:\n",
    "print(velocidade_média(0, 5, 1), \"m/s\")\n",
    "\n",
    "def velocidade_final(v_i, a, t): # \"v_i\" é a velocidade inicial, \"a\" é a aceleração e \"t\" o tempo\n",
    "    return (v_i + a*t)\n",
    "\n",
    "print(velocidade_final(0, 10, 1), \"m/s\")"
   ]
  },
  {
   "cell_type": "markdown",
   "id": "88c608a8-d912-4fbb-9704-f067bb316ffe",
   "metadata": {},
   "source": [
    "## Exercicio 3:\n",
    "Crie uma funcão para calcular o ángulo zenital do sol (da semana passada) tomando como argumento as medidas da altura e o comprimento da sombra."
   ]
  },
  {
   "cell_type": "code",
   "execution_count": 6,
   "id": "8f698b23-7b7f-4e01-8d53-429f7a9c9a70",
   "metadata": {},
   "outputs": [
    {
     "data": {
      "text/plain": [
       "1.4711276743037347"
      ]
     },
     "execution_count": 6,
     "metadata": {},
     "output_type": "execute_result"
    }
   ],
   "source": [
    "import math\n",
    "def angulo_zenital(altura, sombra):\n",
    "    return math.atan(altura/sombra)\n",
    "\n",
    "angulo_zenital(500, 50)"
   ]
  },
  {
   "cell_type": "markdown",
   "id": "8aa38ea6-031b-4098-8088-899b3f9cdb64",
   "metadata": {},
   "source": [
    "## Exercicio 4:\n",
    "Crie uma função que faça a conversão de uma medida inicialmente em milhas para m, e outra para o inverso; uma de horas para segundos, e o inverso. Utilize estas funções para resolver novamente o primeiro exercício da semana passada (da corrida). Se uma pessoa demora 30 minutos em 4 milhas, qual velocidade media em km/h ? e o tempo medio por kilometro?"
   ]
  },
  {
   "cell_type": "code",
   "execution_count": 38,
   "id": "7cd5d7bd-8710-4711-b465-81722217b1cf",
   "metadata": {},
   "outputs": [
    {
     "name": "stdout",
     "output_type": "stream",
     "text": [
      "10km equivale a: 6.211180124223602 milhas\n",
      "43 minutos e 30 segundos equivalem a: 0.725 horas\n",
      "8.567144998929106 mph\n",
      "*******************************************************************************\n",
      "30 minutos equivale a: 0.5 horas\n",
      "4 milhas equivale a: 6.44 km\n",
      "a velocidade média é: 12.88 km/h\n"
     ]
    }
   ],
   "source": [
    "# Se você fizer uma corrida de 10 quilômetros em 43 minutos e 30 segundos, qual será seu tempo médio por milha? \n",
    "# Qual é a sua velocidade média em milhas por hora? (Dica: há 1,61 quilômetros em uma milha).\n",
    "\n",
    "def milhas_para_km(valor_em_milhas):\n",
    "    return valor_em_milhas*1.61\n",
    "def km_para_milha(valor_em_km):\n",
    "    return valor_em_km/1.61\n",
    "    \n",
    "def horas_para_segundo(valor_da_hora):\n",
    "    return valor_da_hora*3600\n",
    "def segundo_para_horas(valor_do_segundo):\n",
    "    return valor_do_segundo/3600\n",
    "    \n",
    "def horas_para_minutos(valor_em_hora):\n",
    "    return valor_em_hora*60\n",
    "def minutos_para_hora(valor_em_minutos):\n",
    "    return valor_em_minutos/60\n",
    "\n",
    "km_para_milha(10)\n",
    "print(\"10km equivale a:\", km_para_milha(10), \"milhas\")\n",
    "minutos_para_hora(43.5)\n",
    "print(\"43 minutos e 30 segundos equivalem a:\", minutos_para_hora(43.5), \"horas\")\n",
    "\n",
    "velocidade_média = km_para_milha(10)/minutos_para_hora(43.5)\n",
    "print(velocidade_média,\"mph\")\n",
    "\n",
    "print(\"*******************************************************************************\")\n",
    "\n",
    "#Se uma pessoa demora 30 minutos em 4 milhas, qual velocidade media em km/h ? e o tempo medio por kilometro?\n",
    "\n",
    "minutos_para_hora(30)\n",
    "print(\"30 minutos equivale a:\", minutos_para_hora(30), \"horas\")\n",
    "\n",
    "milhas_para_km(4)\n",
    "print(\"4 milhas equivale a:\", milhas_para_km(4), \"km\")\n",
    "\n",
    "velocidade_média = milhas_para_km(4)/minutos_para_hora(30)\n",
    "print(\"a velocidade média é:\", velocidade_média, \"km/h\")"
   ]
  },
  {
   "cell_type": "markdown",
   "id": "f857f6b3-af4d-45a3-88b1-2765358488ae",
   "metadata": {},
   "source": [
    "## Exercicio 5:\n",
    "Crie funções para calcular os outros exemplos das aulas anteriores: IMC, volume de uma esfera, distancia entre pontos de máximos de difração. Decida quais serão os argumentos e o valor retornado."
   ]
  },
  {
   "cell_type": "code",
   "execution_count": 39,
   "id": "033174ca-f8ef-422e-aa8d-e616ff8ae40f",
   "metadata": {},
   "outputs": [
    {
     "name": "stdout",
     "output_type": "stream",
     "text": [
      "22.44897959183674\n",
      "523.5987755982989\n",
      "0.005011776\n"
     ]
    }
   ],
   "source": [
    "#Crie funções para calcular os outros exemplos das aulas anteriores: IMC, volume de uma esfera, distancia entre pontos de máximos de difração.\n",
    "#Decida quais serão os argumentos e o valor retornado.\n",
    "\n",
    "#IMC:\n",
    "\n",
    "def IMC(altura, massa):\n",
    "    return massa/(altura**2)\n",
    "print(IMC(0.7, 11))\n",
    "\n",
    "#Volume da esfera:\n",
    "import math\n",
    "def volume_da_esfera(raio):\n",
    "    return (4/3)*math.pi*raio**3\n",
    "print(volume_da_esfera(5))\n",
    "\n",
    "#Máximos de difração:\n",
    "def Maximo_de_difração(lambda1, D, d):\n",
    "    return (lambda1*D)/d\n",
    "print(Maximo_de_difração(632.8 * 10**(-9), 1.98, 0.250 * 10**(-3)))\n",
    "\n"
   ]
  }
 ],
 "metadata": {
  "kernelspec": {
   "display_name": "Python 3 (ipykernel)",
   "language": "python",
   "name": "python3"
  },
  "language_info": {
   "codemirror_mode": {
    "name": "ipython",
    "version": 3
   },
   "file_extension": ".py",
   "mimetype": "text/x-python",
   "name": "python",
   "nbconvert_exporter": "python",
   "pygments_lexer": "ipython3",
   "version": "3.11.7"
  }
 },
 "nbformat": 4,
 "nbformat_minor": 5
}
