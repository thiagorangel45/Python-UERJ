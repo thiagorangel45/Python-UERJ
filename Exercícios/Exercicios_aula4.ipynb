{
 "cells": [
  {
   "cell_type": "markdown",
   "id": "3ff8dba7-d721-42af-8a5e-39ee3fec777c",
   "metadata": {},
   "source": [
    "## Exercicio 1:\n",
    "Escreva uma função com um valor de retorno que:\n",
    "\n",
    "    tome como input dois argumentos;\n",
    "    execute a soma dos dois parâmetros que foram passados como argumento e atribua o resultado a uma variável;\n",
    "    tenha como valor de retorno o dobro da soma dos dois parâmetros."
   ]
  },
  {
   "cell_type": "code",
   "execution_count": 6,
   "id": "f68b2f1e-c684-4a6a-bc81-005c3afa3670",
   "metadata": {},
   "outputs": [
    {
     "data": {
      "text/plain": [
       "24"
      ]
     },
     "execution_count": 6,
     "metadata": {},
     "output_type": "execute_result"
    }
   ],
   "source": [
    "def soma_e_dobro(a, b):\n",
    "    resultado_soma = a + b\n",
    "    resultado_final = 2 * resultado_soma\n",
    "    return resultado_final\n",
    "    \n",
    "parametro1 = 5\n",
    "parametro2 = 7\n",
    "soma_e_dobro(parametro1, parametro2)\n"
   ]
  },
  {
   "cell_type": "markdown",
   "id": "b91c9a03-969d-43c6-93c2-a528a370ec36",
   "metadata": {},
   "source": [
    "## Exercicio 2.a:\n",
    "Um objeto de função é um valor que você pode atribuir a uma variável ou passar como um argumento. Por exemplo, do_twice é uma função que usa um objeto de função como argumento e o chama duas vezes:"
   ]
  },
  {
   "cell_type": "code",
   "execution_count": 14,
   "id": "61a79291-db02-43a6-838a-e301dfc21b3a",
   "metadata": {},
   "outputs": [
    {
     "name": "stdout",
     "output_type": "stream",
     "text": [
      "spam\n",
      "spam\n"
     ]
    }
   ],
   "source": [
    "def do_twice(f):\n",
    "    f()\n",
    "    f()\n",
    "def print_spam():\n",
    "    print('spam')\n",
    "do_twice(print_spam)"
   ]
  },
  {
   "cell_type": "markdown",
   "id": "ca507f5c-0df2-4060-b474-422a9b402613",
   "metadata": {},
   "source": [
    "## Exercicio 2.b:\n",
    "Modifique do_twice para que sejam necessários dois argumentos, um objeto de função f e um valor x, e chame a função duas vezes, passando o valor como um argumento."
   ]
  },
  {
   "cell_type": "code",
   "execution_count": 16,
   "id": "ab39d310-8c37-4bf8-9064-8372a3479d13",
   "metadata": {},
   "outputs": [
    {
     "name": "stdout",
     "output_type": "stream",
     "text": [
      "Hello\n",
      "Hello\n"
     ]
    }
   ],
   "source": [
    "def do_twice(f, x):\n",
    "    f(x)\n",
    "    f(x)\n",
    "do_twice(print, 'Hello')"
   ]
  },
  {
   "cell_type": "markdown",
   "id": "1074b538-1b92-432c-a640-b32762b60c36",
   "metadata": {},
   "source": [
    "## Exercicio 2.c:\n",
    "Escreva uma versão mais geral de print_spam, chamada print_twice, que use uma string como parâmetro e imprima duas vezes."
   ]
  },
  {
   "cell_type": "code",
   "execution_count": 18,
   "id": "67ce7e8a-ba1d-4660-bf97-fa3031011c13",
   "metadata": {},
   "outputs": [
    {
     "name": "stdout",
     "output_type": "stream",
     "text": [
      "spam\n",
      "spam\n"
     ]
    }
   ],
   "source": [
    "def print_twice(s):\n",
    "    print(s)\n",
    "    print(s)\n",
    "print_twice('spam')"
   ]
  },
  {
   "cell_type": "markdown",
   "id": "dc335e9e-99da-44d4-9353-203d1bdcab5a",
   "metadata": {},
   "source": [
    "## Exercicio 2.d:\n",
    "Use a versão modificada (no item b) de  do_twice para chamar print_twice duas vezes, passando 'spam' como um argumento."
   ]
  },
  {
   "cell_type": "code",
   "execution_count": 19,
   "id": "28516e20-7f05-42a7-af1d-bcfc00d89ecc",
   "metadata": {},
   "outputs": [
    {
     "name": "stdout",
     "output_type": "stream",
     "text": [
      "spam\n",
      "spam\n",
      "spam\n",
      "spam\n"
     ]
    }
   ],
   "source": [
    "do_twice(print_twice, 'spam')"
   ]
  },
  {
   "cell_type": "markdown",
   "id": "9ce0ed2a-9b77-4ee1-a27e-2bb2037aa062",
   "metadata": {},
   "source": [
    "## Exercicio 2.e:\n",
    " Defina uma nova função chamada do_four que recebe um objeto de função e um valor e chama a função quatro vezes, passando o valor como um parâmetro. Deve haver apenas duas declarações no corpo desta função, e não quatro."
   ]
  },
  {
   "cell_type": "code",
   "execution_count": 20,
   "id": "fd0b53de-04bc-4f6b-a2ac-4e6d6f0bffa5",
   "metadata": {},
   "outputs": [
    {
     "name": "stdout",
     "output_type": "stream",
     "text": [
      "spam\n",
      "spam\n",
      "spam\n",
      "spam\n",
      "spam\n",
      "spam\n",
      "spam\n",
      "spam\n"
     ]
    }
   ],
   "source": [
    "def do_four(f, x):\n",
    "    do_twice(f, x)\n",
    "    do_twice(f, x)\n",
    "do_four(print_twice, 'spam')"
   ]
  }
 ],
 "metadata": {
  "kernelspec": {
   "display_name": "Python 3 (ipykernel)",
   "language": "python",
   "name": "python3"
  },
  "language_info": {
   "codemirror_mode": {
    "name": "ipython",
    "version": 3
   },
   "file_extension": ".py",
   "mimetype": "text/x-python",
   "name": "python",
   "nbconvert_exporter": "python",
   "pygments_lexer": "ipython3",
   "version": "3.11.7"
  }
 },
 "nbformat": 4,
 "nbformat_minor": 5
}
