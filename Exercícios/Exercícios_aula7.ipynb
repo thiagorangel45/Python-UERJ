{
 "cells": [
  {
   "cell_type": "markdown",
   "id": "7bd38b27",
   "metadata": {},
   "source": [
    "## Exercicio 1:\n",
    "A conjectura de Collatz, diz que \"Todos os inteiros positivos irão eventualmente convergir para 1 usando as regras do Collatz\". Faça um programa que verifique a conjectura de Collatz para alguns valores. As regras de Collatz são:\n",
    "Dado um número n:\n",
    "se n for par, divida-o por 2;\n",
    "se n for ímpar, atualize-o para 3*n + 1;\n",
    "repetir até chegar ao valor 1."
   ]
  },
  {
   "cell_type": "code",
   "execution_count": 4,
   "id": "b1896a97-4240-4d6f-b73a-84cf93019dc0",
   "metadata": {},
   "outputs": [
    {
     "name": "stdout",
     "output_type": "stream",
     "text": [
      "10\n",
      "5.0\n",
      "16.0\n",
      "8.0\n",
      "4.0\n",
      "2.0\n",
      "1.0\n"
     ]
    }
   ],
   "source": [
    "def collatz(n):\n",
    "    if n == 1:\n",
    "        print(n)\n",
    "        return\n",
    "\n",
    "    if n % 2 == 0:\n",
    "        print(n)\n",
    "        collatz(n/2)\n",
    "    elif n % 2 == 1:\n",
    "        print(n)\n",
    "        collatz(3*n + 1)\n",
    "\n",
    "collatz(10)\n"
   ]
  },
  {
   "cell_type": "markdown",
   "id": "1151f40b",
   "metadata": {},
   "source": [
    "## Exercicio 2: \n",
    "Modifique a função counter para contar o número de vezes que os dígitos 0 e 5 aparecem em um dado número n. Por exemplo, n = 10568, tem 2 dígitos 0 ou 5."
   ]
  },
  {
   "cell_type": "code",
   "execution_count": 66,
   "id": "3d7de433-b320-45e1-962e-d7fb7d0358d0",
   "metadata": {},
   "outputs": [
    {
     "name": "stdout",
     "output_type": "stream",
     "text": [
      "Esse numero possui 6 dígitos\n",
      "Esse numero possui 1 dígitos 0\n",
      "Esse numero possui 2 dígitos 5\n"
     ]
    }
   ],
   "source": [
    "def counter(n):\n",
    "    count = 0\n",
    "    while n!=0:\n",
    "        count = count + 1\n",
    "        n = n // 10         # divisão de inteiros\n",
    "    return count\n",
    "\n",
    "counter(7100)\n",
    "\n",
    "\n",
    "def counter(n):\n",
    "    count = 0\n",
    "    count_0 = 0\n",
    "    count_5 = 0\n",
    "    \n",
    "    while n != 0:\n",
    "        digit = n % 10\n",
    "        count += 1\n",
    "        if digit == 5:\n",
    "            count_5 += 1\n",
    "        if digit == 0:\n",
    "            count_0 += 1\n",
    "        n = n // 10\n",
    "\n",
    "    print(\"Esse numero possui\", count, \"dígitos\")\n",
    "    print(\"Esse numero possui\", count_0, \"dígitos 0\")\n",
    "    print(\"Esse numero possui\", count_5, \"dígitos 5\")\n",
    "\n",
    "# Exemplo de uso\n",
    "counter(571058)\n"
   ]
  },
  {
   "cell_type": "markdown",
   "id": "8fc01e96",
   "metadata": {},
   "source": [
    "## Exercicio 3:\n",
    "Encapsule e generalize a seguinte declaração:"
   ]
  },
  {
   "cell_type": "code",
   "execution_count": 45,
   "id": "de4c761d",
   "metadata": {},
   "outputs": [
    {
     "name": "stdout",
     "output_type": "stream",
     "text": [
      "12\n",
      "16\n",
      "24\n",
      "30\n",
      "10\n",
      "20\n",
      "36\n"
     ]
    }
   ],
   "source": [
    "#for i in [12, 16, 17, 24, 29]:\n",
    "#    if i % 2 == 1:  # If the number is odd\n",
    "#       break        #  ... immediately exit the loop\n",
    "#    print(i)\n",
    "#print(\"done\"\n",
    "\n",
    "      \n",
    "def is_par(list):\n",
    "    for i in list:\n",
    "        if i % 2 == 1:\n",
    "            continue\n",
    "        else:\n",
    "            print(i)\n",
    "    \n",
    "list = [12, 16, 17, 24, 29, 30, 10, 20, 36, 35, 77]\n",
    "\n",
    "is_par(list)"
   ]
  },
  {
   "cell_type": "markdown",
   "id": "762b9eb7",
   "metadata": {},
   "source": [
    "## Exercicio 4:\n",
    "O método de Newton para raiz quadrada. Suponha que você queira calcular a raiz quadrada de n. Se você começar com quase qualquer aproximação, poderá calcular uma aproximação melhor (mais próxima da resposta real) com a seguinte fórmula: melhor = (approx + n/approx)/2\n",
    "Usando um loop e repetindo esta fórmula até que a melhor aproximação se aproxime o suficiente da anterior (este \"suficiente\" é arbitrario: podemos considerar uma diferença de 0,001), escreva uma função para calcular a raiz quadrada utilizando o método de Newton."
   ]
  },
  {
   "cell_type": "code",
   "execution_count": 52,
   "id": "b79a1c5b",
   "metadata": {},
   "outputs": [
    {
     "name": "stdout",
     "output_type": "stream",
     "text": [
      "A raiz quadrada de 25 é aproximadamente 5.000000000016778\n"
     ]
    }
   ],
   "source": [
    "def calcular_raiz_quadrada(n):\n",
    "    approx = n / 2  # Aproximação inicial\n",
    "    diff = 1.0      # Inicialização da diferença\n",
    "\n",
    "    while diff > 0.001:\n",
    "        melhor_aprox = (approx + n / approx) / 2\n",
    "        diff = abs(melhor_aprox - approx)\n",
    "        approx = melhor_aprox\n",
    "\n",
    "    return approx\n",
    "\n",
    "numero = 25\n",
    "raiz_quadrada = calcular_raiz_quadrada(numero)\n",
    "print(f\"A raiz quadrada de {numero} é aproximadamente {raiz_quadrada}\")\n"
   ]
  },
  {
   "cell_type": "markdown",
   "id": "6ac0f74e",
   "metadata": {},
   "source": [
    "## Exercicio Parte 2:\n"
   ]
  },
  {
   "cell_type": "markdown",
   "id": "d6ef834d",
   "metadata": {},
   "source": [
    "## Exercicio 1:\n",
    "O módulo time fornece uma função, também chamada time, que devolve a Hora Média de Greenwich na “época”, que é um momento arbitrário usado como ponto de referência. Em sistemas UNIX, a época é primeiro de janeiro de 1970."
   ]
  },
  {
   "cell_type": "code",
   "execution_count": null,
   "id": "d1ae2cba",
   "metadata": {},
   "outputs": [],
   "source": []
  },
  {
   "cell_type": "markdown",
   "id": "2300c6c6",
   "metadata": {},
   "source": [
    "## Exercicio 2:\n",
    "O último teorema de Fermat diz que não existem números inteiros a, b e c tais que a**n + b**n == c**n para quaisquer valores de n maiores que 2.\n",
    "Escreva uma função chamada check_fermat que receba quatro parâmetros – a, b, c e n – e verifique se o teorema de Fermat se mantém. Se n for maior que 2 e a**n + b**n == c**n o programa deve imprimir, “Holy smokes, Fermat was wrong!” Senão o programa deve exibir “No, that doesn’t work.”\n",
    "Escreva uma função que peça ao usuário para digitar valores para a, b, c e n, os converta em números inteiros e use check_fermat para verificar se violam o teorema de Fermat."
   ]
  },
  {
   "cell_type": "code",
   "execution_count": 57,
   "id": "68fc548f",
   "metadata": {},
   "outputs": [
    {
     "name": "stdout",
     "output_type": "stream",
     "text": [
      "No, that doesn’t work.\n"
     ]
    }
   ],
   "source": [
    "# a)\n",
    "def check_fermat(a, b, c, n):\n",
    "    if n > 2 and a**n + b**n == c**n:\n",
    "        print(\"Holy smokes, Fermat was wrong!\")\n",
    "    else:\n",
    "        print(\"No, that doesn’t work.\")\n",
    "\n",
    "check_fermat(1, 2, 3, 4)"
   ]
  },
  {
   "cell_type": "code",
   "execution_count": 58,
   "id": "083cbf48",
   "metadata": {},
   "outputs": [
    {
     "name": "stdout",
     "output_type": "stream",
     "text": [
      "coloque os valores de a: 1\n",
      "coloque os valores de b: 2\n",
      "coloque os valores de c: 3\n",
      "coloque os valores de n: 4\n",
      "No, that doesn’t work.\n"
     ]
    }
   ],
   "source": [
    "# b) \n",
    "def check_fermat(a, b, c, n):\n",
    "    if n > 2 and a**n + b**n == c**n:\n",
    "        print(\"Holy smokes, Fermat was wrong!\")\n",
    "    else:\n",
    "        print(\"No, that doesn’t work.\")\n",
    "\n",
    "a = int(input(\"coloque os valores de a: \"))\n",
    "b = int(input(\"coloque os valores de b: \"))\n",
    "c = int(input(\"coloque os valores de c: \"))\n",
    "n = int(input(\"coloque os valores de n: \"))\n",
    "check_fermat(a, b, c, n)"
   ]
  },
  {
   "cell_type": "markdown",
   "id": "0234bfb2",
   "metadata": {},
   "source": [
    "## Exercicio 3:\n",
    "Há um teste simples para ver se é possível formar um triângulo para quaisquer três comprimentos: Se algum dos três comprimentos for maior que a soma dos outros dois, então você não pode formar um triângulo. Senão, você pode. (Se a soma de dois comprimentos igualar o terceiro, eles formam um triângulo chamado “degenerado”.)\n",
    "Escreva uma função chamada is_triangle que receba três números inteiros como argumentos, e que imprima “Yes” ou “No”, dependendo da possibilidade de formar ou não um triângulo de gravetos com os comprimentos dados.\n",
    "Escreva uma função que peça ao usuário para digitar três comprimentos de gravetos, os converta em números inteiros e use is_triangle para verificar se os gravetos com os comprimentos dados podem formar um triângulo."
   ]
  },
  {
   "cell_type": "code",
   "execution_count": 69,
   "id": "19eb5751",
   "metadata": {},
   "outputs": [
    {
     "name": "stdout",
     "output_type": "stream",
     "text": [
      "yes\n"
     ]
    }
   ],
   "source": [
    "# a)\n",
    "def is_triangule(a, b, c):\n",
    "    if a > b + c or b > a + c or c > a + b:\n",
    "        print(\"no\")\n",
    "    else:\n",
    "        print(\"yes\")\n",
    "        \n",
    "is_triangule(1, 1, 2)"
   ]
  },
  {
   "cell_type": "code",
   "execution_count": 63,
   "id": "57386ca5",
   "metadata": {},
   "outputs": [
    {
     "name": "stdout",
     "output_type": "stream",
     "text": [
      "coloque os valores de a: 1\n",
      "coloque os valores de b: 1\n",
      "coloque os valores de c: 2\n",
      "é triangulo\n"
     ]
    }
   ],
   "source": [
    "# b) \n",
    "def is_triangule(a, b, c):\n",
    "    if a > b + c or b > a + c or c > a + b:\n",
    "        print(\"nao é triangulo\")\n",
    "    else:\n",
    "        print(\"é triangulo\")\n",
    "        \n",
    "a = int(input(\"coloque os valores de a: \"))\n",
    "b = int(input(\"coloque os valores de b: \"))\n",
    "c = int(input(\"coloque os valores de c: \"))\n",
    "is_triangule(a, b, c)"
   ]
  },
  {
   "cell_type": "markdown",
   "id": "1d651c60",
   "metadata": {},
   "source": [
    "## Exercicio 5:\n",
    "Para desenhar uma curva de Koch com o comprimento x, tudo o que você tem que fazer é:\n",
    "\n",
    "Desenhe uma curva de Koch com o comprimento x/3.\n",
    "Vire 60 graus à esquerda.\n",
    "\n",
    "Desenhe uma curva de Koch com o comprimento x/3.\n",
    "Vire 120 graus à direita.\n",
    "\n",
    "Desenhe uma curva de Koch com o comprimento x/3.\n",
    "Vire 60 graus à esquerda.\n",
    "\n",
    "Desenhe uma curva de Koch com o comprimento x/3.\n",
    "\n",
    "A exceção é se x for menor que 3: neste caso, você pode desenhar apenas uma linha reta com o comprimento x.\n",
    "Escreva uma função chamada koch que receba um turtle (usar trinket) e um comprimento como parâmetros, e use o turtle para desenhar uma curva de Koch com o comprimento dado.\n",
    "Escreva uma função chamada snowflake que desenhe três curvas de Koch para fazer o traçado de um floco de neve.\n",
    "A curva de Koch pode ser generalizada de vários modos. Veja exemplos em http://en.wikipedia.org/wiki/Koch_snowflake e implemente o seu favorito."
   ]
  },
  {
   "cell_type": "code",
   "execution_count": null,
   "id": "f83f0b2f",
   "metadata": {},
   "outputs": [],
   "source": [
    "import turtle\n",
    "\n",
    "def koch(t, length):\n",
    "    if length < 3:\n",
    "        t.forward(length)\n",
    "    else:\n",
    "        koch(t, length/3)\n",
    "        t.left(60)\n",
    "        koch(t, length/3)\n",
    "        t.right(120)\n",
    "        koch(t, length/3)\n",
    "        t.left(60)\n",
    "        koch(t, length/3)\n",
    "\n",
    "def snowflake(t, length):\n",
    "    for _ in range(3):\n",
    "        koch(t, length)\n",
    "        t.right(120)\n",
    "\n",
    "floco_turtle = turtle.Turtle()\n",
    "\n",
    "floco_turtle.speed(2)\n",
    "\n",
    "snowflake(floco_turtle, 300)\n",
    "\n",
    "turtle.mainloop()\n"
   ]
  }
 ],
 "metadata": {
  "kernelspec": {
   "display_name": "Python 3 (ipykernel)",
   "language": "python",
   "name": "python3"
  },
  "language_info": {
   "codemirror_mode": {
    "name": "ipython",
    "version": 3
   },
   "file_extension": ".py",
   "mimetype": "text/x-python",
   "name": "python",
   "nbconvert_exporter": "python",
   "pygments_lexer": "ipython3",
   "version": "3.11.5"
  }
 },
 "nbformat": 4,
 "nbformat_minor": 5
}
