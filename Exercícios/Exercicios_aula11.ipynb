{
 "cells": [
  {
   "cell_type": "markdown",
   "id": "6bbf0001-a098-4c8a-8cf3-0ef91c2b78a8",
   "metadata": {},
   "source": [
    "## Exercício 1:\n",
    "\n",
    "Utilizando dicionários e o método `get` dos dicionários, contrua a seguinte matriz em Python e acesse os valores de índices (0,3), (2,1), (4,3) e (2,2).\n",
    "![matrix](https://github.com/malbouis/Python_intro/blob/master/aulas_2019/pics/matrix_aula12.png?raw=1)"
   ]
  },
  {
   "cell_type": "code",
   "execution_count": 6,
   "id": "a9295c75-815c-40ba-abcf-65f52d1cb350",
   "metadata": {},
   "outputs": [
    {
     "name": "stdout",
     "output_type": "stream",
     "text": [
      "Valor no índice (0, 3): 1\n",
      "Valor no índice (2, 1): 2\n",
      "Valor no índice (4, 3): 3\n",
      "Valor no índice (2, 2): 0\n"
     ]
    }
   ],
   "source": [
    "matriz = {\n",
    "    (0, 0): 0, (0, 1): 0, (0, 2): 0, (0, 3): 1, (0, 4): 0,\n",
    "    (1, 0): 0, (1, 1): 0, (1, 2): 0, (1, 3): 0, (1, 4): 0,\n",
    "    (2, 0): 0, (2, 1): 2, (2, 2): 0, (2, 3): 0, (2, 4): 0,\n",
    "    (3, 0): 0, (3, 1): 0, (3, 2): 0, (3, 3): 0, (3, 4): 0,\n",
    "    (4, 0): 0, (4, 1): 0, (4, 2): 0, (4, 3): 3, (4, 4): 0,\n",
    "}\n",
    "\n",
    "indices = [(0, 3), (2, 1), (4, 3), (2, 2)]\n",
    "\n",
    "for indice in indices:\n",
    "    valor = matriz.get(indice)\n",
    "    print(f\"Valor no índice {indice}: {valor}\")\n"
   ]
  },
  {
   "cell_type": "markdown",
   "id": "7633ae69-be0b-4f23-ad19-f066a154aed1",
   "metadata": {},
   "source": [
    "## Exercicio 2a\n",
    "\n",
    "Contagem de Letras.\n",
    "\n",
    "Utilizando dicionários, escreva uma função que tome como argumento uma palavra (string) e retorne um dicionário que tenha como key cada letra da palavra e como valor o número de vezes que ela aparece na palavra. Tal dicionário é chamado de tabela de frequência. Dica: Utilize novamente o método get dos dicionários."
   ]
  },
  {
   "cell_type": "code",
   "execution_count": 8,
   "id": "955e782b-b897-4a41-8f23-23de957c0806",
   "metadata": {},
   "outputs": [
    {
     "name": "stdout",
     "output_type": "stream",
     "text": [
      "tabela de frequência em Física é demais :\n",
      "{'F': 1, 'í': 1, 's': 2, 'i': 2, 'c': 1, 'a': 2, ' ': 2, 'é': 1, 'd': 1, 'e': 1, 'm': 1}\n"
     ]
    }
   ],
   "source": [
    "def tabela_de_frequencia(string):\n",
    "  tabela = {}\n",
    "  for i in string: \n",
    "      if i in tabela: \n",
    "          tabela[i] += 1\n",
    "      else: \n",
    "          tabela[i] = 1\n",
    "  print('tabela de frequência em',string,':' )\n",
    "  print(tabela)\n",
    "\n",
    "tabela_de_frequencia(\"Física é demais\")"
   ]
  },
  {
   "cell_type": "markdown",
   "id": "6e739337-cf23-4109-a305-c0116e146b3f",
   "metadata": {},
   "source": [
    "## Exercicio 2b\n",
    "\n",
    "Utilizando os métodos sort (referente a listas) e items (referente a dicionários), imprima na tela uma lista ordenada alfabeticamente da tabela de frequência obtida no item a."
   ]
  },
  {
   "cell_type": "code",
   "execution_count": 9,
   "id": "15c8efa5-2910-476c-a9bd-3f13b49f1f20",
   "metadata": {},
   "outputs": [
    {
     "name": "stdout",
     "output_type": "stream",
     "text": [
      "[(' ', 2), ('F', 1), ('a', 2), ('c', 1), ('d', 1), ('e', 1), ('i', 2), ('m', 1), ('s', 2), ('é', 1), ('í', 1)]\n"
     ]
    }
   ],
   "source": [
    "def tabela_de_frequencia(string):\n",
    "  tabela = {}\n",
    "  for i in string: \n",
    "      if i in tabela: \n",
    "          tabela[i] += 1\n",
    "      else: \n",
    "          tabela[i] = 1\n",
    "  x = sorted(tabela.items())\n",
    "  print(x)\n",
    "\n",
    "tabela_de_frequencia(\"Física é demais\")"
   ]
  },
  {
   "cell_type": "markdown",
   "id": "0f34cbfe-69fc-47b6-9ffb-52518a3ea6f5",
   "metadata": {},
   "source": [
    "## Exercicio 3\n",
    "\n",
    "Escreva um programa que leia uma string e retorne uma tabela das letras do alfabeto em ordem alfabética que ocorrem na string junto com o número de vezes que cada letra ocorre. Deve ser ignorado se a letra ocorre em maiúscula ou minúscula (contar da mesma forma \"A\" e \"a\"). Um exemplo de saída do programa quando o usuário digita os dados “ThiS is String with Upper and lower case Letters”, seria o seguinte:"
   ]
  },
  {
   "cell_type": "code",
   "execution_count": 10,
   "id": "acab10fa-41df-42ca-b00c-29605b0b4c38",
   "metadata": {},
   "outputs": [
    {
     "name": "stdout",
     "output_type": "stream",
     "text": [
      "a: 2\n",
      "c: 1\n",
      "d: 1\n",
      "e: 5\n",
      "g: 1\n",
      "h: 2\n",
      "i: 4\n",
      "l: 2\n",
      "n: 2\n",
      "o: 1\n",
      "p: 2\n",
      "r: 4\n",
      "s: 5\n",
      "t: 5\n",
      "u: 1\n",
      "w: 2\n"
     ]
    }
   ],
   "source": [
    "def tabela_frequencia_letras(frase):\n",
    "    tabela = {}\n",
    "    for caractere in frase:\n",
    "        if caractere.isalpha():\n",
    "            caractere = caractere.lower()\n",
    "            tabela[caractere] = tabela.get(caractere, 0) + 1\n",
    "    tabela_ordenada = sorted(tabela.items())\n",
    "    for letra, frequencia in tabela_ordenada:\n",
    "        print(f\"{letra}: {frequencia}\")\n",
    "\n",
    "frase_exemplo = \"ThiS is String with Upper and lower case Letters\"\n",
    "tabela_frequencia_letras(frase_exemplo)"
   ]
  }
 ],
 "metadata": {
  "kernelspec": {
   "display_name": "Python 3 (ipykernel)",
   "language": "python",
   "name": "python3"
  },
  "language_info": {
   "codemirror_mode": {
    "name": "ipython",
    "version": 3
   },
   "file_extension": ".py",
   "mimetype": "text/x-python",
   "name": "python",
   "nbconvert_exporter": "python",
   "pygments_lexer": "ipython3",
   "version": "3.11.7"
  }
 },
 "nbformat": 4,
 "nbformat_minor": 5
}
