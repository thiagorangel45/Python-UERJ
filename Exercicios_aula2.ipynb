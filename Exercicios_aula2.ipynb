{
 "cells": [
  {
   "cell_type": "markdown",
   "id": "2ff33a83-cb80-4d83-a5ad-e4e5c88a3a64",
   "metadata": {},
   "source": [
    "## Exercicio 1:\n",
    "\n",
    "Considere as seguintes declarações de atribuições:\n",
    "\n",
    "    largura = 17\n",
    "    altura = 12.0\n",
    "    delimitador = \".\"\n",
    "\n",
    "Para cada uma das expressões a seguir, escreva o valor das expressões e o tipo (do valor da expressão):\n",
    "\n",
    "    largura/2\n",
    "    largura/2.0\n",
    "    altura/3\n",
    "    1 + 2 * 5\n",
    "    delimitador*5\n",
    "\n",
    "Use o interpretador de python para verificar suas respostas."
   ]
  },
  {
   "cell_type": "code",
   "execution_count": 17,
   "id": "34647f8f-d99b-4c42-adb9-b8c5da75a567",
   "metadata": {},
   "outputs": [
    {
     "name": "stdout",
     "output_type": "stream",
     "text": [
      "8.5\n",
      "<class 'float'>\n",
      "8.5\n",
      "<class 'float'>\n",
      "4.0\n",
      "<class 'float'>\n",
      "11\n",
      "<class 'int'>\n",
      ".....\n",
      "<class 'str'>\n"
     ]
    }
   ],
   "source": [
    "largura = 17\n",
    "altura = 12.0\n",
    "delimitador = \".\"\n",
    "\n",
    "print(largura/2)\n",
    "print(type(largura/2))\n",
    "\n",
    "print(largura/2.0)\n",
    "print(type(largura/2.0))\n",
    "\n",
    "print(altura/3)\n",
    "print(type(altura/3))\n",
    "\n",
    "print(1+2*5)\n",
    "print(type(1+2*5))\n",
    "\n",
    "print(delimitador*5)\n",
    "print(type(delimitador*5))"
   ]
  },
  {
   "cell_type": "markdown",
   "id": "b309078f-41bb-44ba-b11f-993239b10354",
   "metadata": {},
   "source": [
    "## Exercicio 2:\n",
    "O volume de uma esfera de raio r é $ $4/3$ π r^3$\n",
    "Qual é o volume de uma esfera de raio 5?"
   ]
  },
  {
   "cell_type": "code",
   "execution_count": 19,
   "id": "5d1ca2af-6fa8-4b40-a17d-c80f57b14f7a",
   "metadata": {},
   "outputs": [
    {
     "name": "stdout",
     "output_type": "stream",
     "text": [
      "523.5987755982989\n"
     ]
    }
   ],
   "source": [
    "import math\n",
    "r = 5 \n",
    "v = (4/3)*math.pi*r**3\n",
    "print(v)"
   ]
  },
  {
   "cell_type": "markdown",
   "id": "608f2b74-ea0d-469f-936f-4e08974d5ec0",
   "metadata": {},
   "source": [
    "## Exercício 3:\n",
    "\n",
    "Suponha que o preço de um livro seja 24.95 reais, porém as livrarias têm desconto de 40%. Os custos de envio são de 3.00 reais para o primeiro livro e 0.75 reais para os livros adicionais. Qual é o custo total da compra de 60 livros? "
   ]
  },
  {
   "cell_type": "code",
   "execution_count": 4,
   "id": "57c3d5ae-bbbb-4325-ab21-918da6a6d073",
   "metadata": {},
   "outputs": [
    {
     "name": "stdout",
     "output_type": "stream",
     "text": [
      "valor total a pagar é: 665.4224999999999\n"
     ]
    }
   ],
   "source": [
    "valor_do_livro = 24.95\n",
    "\n",
    "desconto = 0.4*valor_do_livro\n",
    "valor_final = valor_do_livro - desconto\n",
    "\n",
    "custo_primeira_entrega = 3\n",
    "custo_das_demais_entregas = 0.75\n",
    "\n",
    "Quantidade_de_livros = 60\n",
    "\n",
    "valor_a_pagar = custo_primeira_entrega + valor_final*(Quantidade_de_livros - 1)*custo_das_demais_entregas\n",
    "print(\"valor total a pagar é:\", valor_a_pagar)"
   ]
  },
  {
   "cell_type": "markdown",
   "id": "8650df28-833c-430c-9ed6-867093ab5a97",
   "metadata": {},
   "source": [
    "## Exercício 4:\n",
    "\n",
    "Um laser vermelho (com comprimento de onda $\\lambda$ = 632.8\n",
    "nm) incide em uma fenda dupla produzindo um padrão de interferência com franjas claras e escuras, em um anteparo situado a uma distância D = 1.98 m da fenda. Calcule a distância entre dois máximos consecutivos de interferência. Considere o espaçamento entre as fendas,$\\Delta y$ , como sendo igual a 0.250 mm. Dica: a distância entre dois máximos de interferência consecutivos pode ser aproximada por: $\\Delta y$ = $(\\lambda D)/d$\n",
    "."
   ]
  },
  {
   "cell_type": "code",
   "execution_count": 9,
   "id": "7ab1a1b7-497f-45f4-a1c9-cc55b12c6348",
   "metadata": {},
   "outputs": [
    {
     "name": "stdout",
     "output_type": "stream",
     "text": [
      "distância entre os máximos de interfêrencia é: 0.005011776 m\n"
     ]
    }
   ],
   "source": [
    "lambda1 = 632.8 * 10**(-9)  # Convertendo para metros\n",
    "d = 0.250 * 10**(-3)  # Convertendo para metros\n",
    "D = 1.98   # Convertendo para metros\n",
    "deltay = (lambda1 * D) / d\n",
    "print(\"distância entre os máximos de interfêrencia é:\", deltay, \"m\")"
   ]
  },
  {
   "cell_type": "code",
   "execution_count": null,
   "id": "655ad8c4-edbb-45ed-a065-4738675f6f47",
   "metadata": {},
   "outputs": [],
   "source": []
  }
 ],
 "metadata": {
  "kernelspec": {
   "display_name": "Python 3 (ipykernel)",
   "language": "python",
   "name": "python3"
  },
  "language_info": {
   "codemirror_mode": {
    "name": "ipython",
    "version": 3
   },
   "file_extension": ".py",
   "mimetype": "text/x-python",
   "name": "python",
   "nbconvert_exporter": "python",
   "pygments_lexer": "ipython3",
   "version": "3.11.7"
  }
 },
 "nbformat": 4,
 "nbformat_minor": 5
}
